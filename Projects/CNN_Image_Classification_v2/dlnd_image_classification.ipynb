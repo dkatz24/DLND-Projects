{
 "cells": [
  {
   "cell_type": "markdown",
   "metadata": {
    "collapsed": true,
    "deletable": true,
    "editable": true
   },
   "source": [
    "# Image Classification\n",
    "In this project, you'll classify images from the [CIFAR-10 dataset](https://www.cs.toronto.edu/~kriz/cifar.html).  The dataset consists of airplanes, dogs, cats, and other objects. You'll preprocess the images, then train a convolutional neural network on all the samples. The images need to be normalized and the labels need to be one-hot encoded.  You'll get to apply what you learned and build a convolutional, max pooling, dropout, and fully connected layers.  At the end, you'll get to see your neural network's predictions on the sample images.\n",
    "## Get the Data\n",
    "Run the following cell to download the [CIFAR-10 dataset for python](https://www.cs.toronto.edu/~kriz/cifar-10-python.tar.gz)."
   ]
  },
  {
   "cell_type": "code",
   "execution_count": 1,
   "metadata": {
    "collapsed": false,
    "deletable": true,
    "editable": true
   },
   "outputs": [
    {
     "name": "stdout",
     "output_type": "stream",
     "text": [
      "All files found!\n"
     ]
    }
   ],
   "source": [
    "\"\"\"\n",
    "DON'T MODIFY ANYTHING IN THIS CELL THAT IS BELOW THIS LINE\n",
    "\"\"\"\n",
    "from urllib.request import urlretrieve\n",
    "from os.path import isfile, isdir\n",
    "from tqdm import tqdm\n",
    "import problem_unittests as tests\n",
    "import tarfile\n",
    "\n",
    "cifar10_dataset_folder_path = 'cifar-10-batches-py'\n",
    "\n",
    "# Use Floyd's cifar-10 dataset if present\n",
    "floyd_cifar10_location = '/input/cifar-10/python.tar.gz'\n",
    "if isfile(floyd_cifar10_location):\n",
    "    tar_gz_path = floyd_cifar10_location\n",
    "else:\n",
    "    tar_gz_path = 'cifar-10-python.tar.gz'\n",
    "\n",
    "class DLProgress(tqdm):\n",
    "    last_block = 0\n",
    "\n",
    "    def hook(self, block_num=1, block_size=1, total_size=None):\n",
    "        self.total = total_size\n",
    "        self.update((block_num - self.last_block) * block_size)\n",
    "        self.last_block = block_num\n",
    "\n",
    "if not isfile(tar_gz_path):\n",
    "    with DLProgress(unit='B', unit_scale=True, miniters=1, desc='CIFAR-10 Dataset') as pbar:\n",
    "        urlretrieve(\n",
    "            'https://www.cs.toronto.edu/~kriz/cifar-10-python.tar.gz',\n",
    "            tar_gz_path,\n",
    "            pbar.hook)\n",
    "\n",
    "if not isdir(cifar10_dataset_folder_path):\n",
    "    with tarfile.open(tar_gz_path) as tar:\n",
    "        tar.extractall()\n",
    "        tar.close()\n",
    "\n",
    "\n",
    "tests.test_folder_path(cifar10_dataset_folder_path)"
   ]
  },
  {
   "cell_type": "markdown",
   "metadata": {
    "deletable": true,
    "editable": true
   },
   "source": [
    "## Explore the Data\n",
    "The dataset is broken into batches to prevent your machine from running out of memory.  The CIFAR-10 dataset consists of 5 batches, named `data_batch_1`, `data_batch_2`, etc.. Each batch contains the labels and images that are one of the following:\n",
    "* airplane\n",
    "* automobile\n",
    "* bird\n",
    "* cat\n",
    "* deer\n",
    "* dog\n",
    "* frog\n",
    "* horse\n",
    "* ship\n",
    "* truck\n",
    "\n",
    "Understanding a dataset is part of making predictions on the data.  Play around with the code cell below by changing the `batch_id` and `sample_id`. The `batch_id` is the id for a batch (1-5). The `sample_id` is the id for a image and label pair in the batch.\n",
    "\n",
    "Ask yourself \"What are all possible labels?\", \"What is the range of values for the image data?\", \"Are the labels in order or random?\".  Answers to questions like these will help you preprocess the data and end up with better predictions."
   ]
  },
  {
   "cell_type": "code",
   "execution_count": 3,
   "metadata": {
    "collapsed": false,
    "deletable": true,
    "editable": true
   },
   "outputs": [
    {
     "name": "stdout",
     "output_type": "stream",
     "text": [
      "\n",
      "Stats of batch 1:\n",
      "Samples: 10000\n",
      "Label Counts: {0: 1005, 1: 974, 2: 1032, 3: 1016, 4: 999, 5: 937, 6: 1030, 7: 1001, 8: 1025, 9: 981}\n",
      "First 20 Labels: [6, 9, 9, 4, 1, 1, 2, 7, 8, 3, 4, 7, 7, 2, 9, 9, 9, 3, 2, 6]\n",
      "\n",
      "Example of Image 5:\n",
      "Image - Min Value: 0 Max Value: 252\n",
      "Image - Shape: (32, 32, 3)\n",
      "Label - Label Id: 1 Name: automobile\n"
     ]
    },
    {
     "data": {
      "image/png": "[encoded data removed]",
      "text/plain": [
       "<matplotlib.figure.Figure at 0x7f37e10c06a0>"
      ]
     },
     "metadata": {
      "image/png": {
       "height": 250,
       "width": 253
      }
     },
     "output_type": "display_data"
    }
   ],
   "source": [
    "%matplotlib inline\n",
    "%config InlineBackend.figure_format = 'retina'\n",
    "\n",
    "import helper\n",
    "import numpy as np\n",
    "\n",
    "# Explore the dataset\n",
    "batch_id = 1\n",
    "sample_id = 5\n",
    "helper.display_stats(cifar10_dataset_folder_path, batch_id, sample_id)"
   ]
  },
  {
   "cell_type": "markdown",
   "metadata": {
    "deletable": true,
    "editable": true
   },
   "source": [
    "## Implement Preprocess Functions\n",
    "### Normalize\n",
    "In the cell below, implement the `normalize` function to take in image data, `x`, and return it as a normalized Numpy array. The values should be in the range of 0 to 1, inclusive.  The return object should be the same shape as `x`."
   ]
  },
  {
   "cell_type": "code",
   "execution_count": 4,
   "metadata": {
    "collapsed": false,
    "deletable": true,
    "editable": true
   },
   "outputs": [
    {
     "name": "stdout",
     "output_type": "stream",
     "text": [
      "Tests Passed\n"
     ]
    }
   ],
   "source": [
    "def normalize(x):\n",
    "    \"\"\"\n",
    "    Normalize a list of sample image data in the range of 0 to 1\n",
    "    : x: List of image data.  The image shape is (32, 32, 3)\n",
    "    : return: Numpy array of normalize data\n",
    "    \"\"\"\n",
    "    x = np.asarray(x)\n",
    "    max_x = np.amax(x)\n",
    "    min_x = np.amin(x)\n",
    "    \n",
    "    norm_x = (x - min_x) / (max_x - min_x)\n",
    "              \n",
    "    return norm_x\n",
    "\n",
    "\"\"\"\n",
    "DON'T MODIFY ANYTHING IN THIS CELL THAT IS BELOW THIS LINE\n",
    "\"\"\"\n",
    "tests.test_normalize(normalize)"
   ]
  },
  {
   "cell_type": "markdown",
   "metadata": {
    "deletable": true,
    "editable": true
   },
   "source": [
    "### One-hot encode\n",
    "Just like the previous code cell, you'll be implementing a function for preprocessing.  This time, you'll implement the `one_hot_encode` function. The input, `x`, are a list of labels.  Implement the function to return the list of labels as One-Hot encoded Numpy array.  The possible values for labels are 0 to 9. The one-hot encoding function should return the same encoding for each value between each call to `one_hot_encode`.  Make sure to save the map of encodings outside the function.\n",
    "\n",
    "Hint: Don't reinvent the wheel."
   ]
  },
  {
   "cell_type": "code",
   "execution_count": 5,
   "metadata": {
    "collapsed": false,
    "deletable": true,
    "editable": true
   },
   "outputs": [
    {
     "name": "stdout",
     "output_type": "stream",
     "text": [
      "Tests Passed\n"
     ]
    }
   ],
   "source": [
    "def one_hot_encode(x):\n",
    "    \"\"\"\n",
    "    One hot encode a list of sample labels. Return a one-hot encoded vector for each label.\n",
    "    : x: List of sample Labels\n",
    "    : return: Numpy array of one-hot encoded labels\n",
    "    \"\"\"\n",
    "    # TODO: Implement Function\n",
    "    one_hot = np.zeros([len(x), 10])\n",
    "    i = 0\n",
    "    \n",
    "    for label in x:\n",
    "        one_hot[i][label] = 1\n",
    "        i += 1\n",
    "    \n",
    "    return one_hot\n",
    "\n",
    "\n",
    "\"\"\"\n",
    "DON'T MODIFY ANYTHING IN THIS CELL THAT IS BELOW THIS LINE\n",
    "\"\"\"\n",
    "tests.test_one_hot_encode(one_hot_encode)"
   ]
  },
  {
   "cell_type": "markdown",
   "metadata": {
    "deletable": true,
    "editable": true
   },
   "source": [
    "### Randomize Data\n",
    "As you saw from exploring the data above, the order of the samples are randomized.  It doesn't hurt to randomize it again, but you don't need to for this dataset."
   ]
  },
  {
   "cell_type": "markdown",
   "metadata": {
    "deletable": true,
    "editable": true
   },
   "source": [
    "## Preprocess all the data and save it\n",
    "Running the code cell below will preprocess all the CIFAR-10 data and save it to file. The code below also uses 10% of the training data for validation."
   ]
  },
  {
   "cell_type": "code",
   "execution_count": 6,
   "metadata": {
    "collapsed": false,
    "deletable": true,
    "editable": true
   },
   "outputs": [],
   "source": [
    "\"\"\"\n",
    "DON'T MODIFY ANYTHING IN THIS CELL\n",
    "\"\"\"\n",
    "# Preprocess Training, Validation, and Testing Data\n",
    "helper.preprocess_and_save_data(cifar10_dataset_folder_path, normalize, one_hot_encode)"
   ]
  },
  {
   "cell_type": "markdown",
   "metadata": {
    "deletable": true,
    "editable": true
   },
   "source": [
    "# Check Point\n",
    "This is your first checkpoint.  If you ever decide to come back to this notebook or have to restart the notebook, you can start from here.  The preprocessed data has been saved to disk."
   ]
  },
  {
   "cell_type": "code",
   "execution_count": 7,
   "metadata": {
    "collapsed": true,
    "deletable": true,
    "editable": true
   },
   "outputs": [],
   "source": [
    "\"\"\"\n",
    "DON'T MODIFY ANYTHING IN THIS CELL\n",
    "\"\"\"\n",
    "import pickle\n",
    "import problem_unittests as tests\n",
    "import helper\n",
    "\n",
    "# Load the Preprocessed Validation data\n",
    "valid_features, valid_labels = pickle.load(open('preprocess_validation.p', mode='rb'))"
   ]
  },
  {
   "cell_type": "markdown",
   "metadata": {
    "deletable": true,
    "editable": true
   },
   "source": [
    "## Build the network\n",
    "For the neural network, you'll build each layer into a function.  Most of the code you've seen has been outside of functions. To test your code more thoroughly, we require that you put each layer in a function.  This allows us to give you better feedback and test for simple mistakes using our unittests before you submit your project.\n",
    "\n",
    ">**Note:** If you're finding it hard to dedicate enough time for this course each week, we've provided a small shortcut to this part of the project. In the next couple of problems, you'll have the option to use classes from the [TensorFlow Layers](https://www.tensorflow.org/api_docs/python/tf/layers) or [TensorFlow Layers (contrib)](https://www.tensorflow.org/api_guides/python/contrib.layers) packages to build each layer, except the layers you build in the \"Convolutional and Max Pooling Layer\" section.  TF Layers is similar to Keras's and TFLearn's abstraction to layers, so it's easy to pickup.\n",
    "\n",
    ">However, if you would like to get the most out of this course, try to solve all the problems _without_ using anything from the TF Layers packages. You **can** still use classes from other packages that happen to have the same name as ones you find in TF Layers! For example, instead of using the TF Layers version of the `conv2d` class, [tf.layers.conv2d](https://www.tensorflow.org/api_docs/python/tf/layers/conv2d), you would want to use the TF Neural Network version of `conv2d`, [tf.nn.conv2d](https://www.tensorflow.org/api_docs/python/tf/nn/conv2d). \n",
    "\n",
    "Let's begin!\n",
    "\n",
    "### Input\n",
    "The neural network needs to read the image data, one-hot encoded labels, and dropout keep probability. Implement the following functions\n",
    "* Implement `neural_net_image_input`\n",
    " * Return a [TF Placeholder](https://www.tensorflow.org/api_docs/python/tf/placeholder)\n",
    " * Set the shape using `image_shape` with batch size set to `None`.\n",
    " * Name the TensorFlow placeholder \"x\" using the TensorFlow `name` parameter in the [TF Placeholder](https://www.tensorflow.org/api_docs/python/tf/placeholder).\n",
    "* Implement `neural_net_label_input`\n",
    " * Return a [TF Placeholder](https://www.tensorflow.org/api_docs/python/tf/placeholder)\n",
    " * Set the shape using `n_classes` with batch size set to `None`.\n",
    " * Name the TensorFlow placeholder \"y\" using the TensorFlow `name` parameter in the [TF Placeholder](https://www.tensorflow.org/api_docs/python/tf/placeholder).\n",
    "* Implement `neural_net_keep_prob_input`\n",
    " * Return a [TF Placeholder](https://www.tensorflow.org/api_docs/python/tf/placeholder) for dropout keep probability.\n",
    " * Name the TensorFlow placeholder \"keep_prob\" using the TensorFlow `name` parameter in the [TF Placeholder](https://www.tensorflow.org/api_docs/python/tf/placeholder).\n",
    "\n",
    "These names will be used at the end of the project to load your saved model.\n",
    "\n",
    "Note: `None` for shapes in TensorFlow allow for a dynamic size."
   ]
  },
  {
   "cell_type": "code",
   "execution_count": 8,
   "metadata": {
    "collapsed": false,
    "deletable": true,
    "editable": true
   },
   "outputs": [
    {
     "name": "stdout",
     "output_type": "stream",
     "text": [
      "Image Input Tests Passed.\n",
      "Label Input Tests Passed.\n",
      "Keep Prob Tests Passed.\n"
     ]
    }
   ],
   "source": [
    "import tensorflow as tf\n",
    "\n",
    "def neural_net_image_input(image_shape):\n",
    "    \"\"\"\n",
    "    Return a Tensor for a batch of image input\n",
    "    : image_shape: Shape of the images\n",
    "    : return: Tensor for image input.\n",
    "    \"\"\"\n",
    "    height, width, depth = image_shape\n",
    "    return tf.placeholder(tf.float32, shape=[None, height, width, depth], name = 'x')\n",
    "\n",
    "\n",
    "def neural_net_label_input(n_classes):\n",
    "    \"\"\"\n",
    "    Return a Tensor for a batch of label input\n",
    "    : n_classes: Number of classes\n",
    "    : return: Tensor for label input.\n",
    "    \"\"\"\n",
    "    return tf.placeholder(tf.float32, shape=[None, n_classes], name = 'y')\n",
    "\n",
    "\n",
    "def neural_net_keep_prob_input():\n",
    "    \"\"\"\n",
    "    Return a Tensor for keep probability\n",
    "    : return: Tensor for keep probability.\n",
    "    \"\"\"\n",
    "    return tf.placeholder(tf.float32, name='keep_prob')\n",
    "\n",
    "\n",
    "\"\"\"\n",
    "DON'T MODIFY ANYTHING IN THIS CELL THAT IS BELOW THIS LINE\n",
    "\"\"\"\n",
    "tf.reset_default_graph()\n",
    "tests.test_nn_image_inputs(neural_net_image_input)\n",
    "tests.test_nn_label_inputs(neural_net_label_input)\n",
    "tests.test_nn_keep_prob_inputs(neural_net_keep_prob_input)"
   ]
  },
  {
   "cell_type": "markdown",
   "metadata": {
    "deletable": true,
    "editable": true
   },
   "source": [
    "### Convolution and Max Pooling Layer\n",
    "Convolution layers have a lot of success with images. For this code cell, you should implement the function `conv2d_maxpool` to apply convolution then max pooling:\n",
    "* Create the weight and bias using `conv_ksize`, `conv_num_outputs` and the shape of `x_tensor`.\n",
    "* Apply a convolution to `x_tensor` using weight and `conv_strides`.\n",
    " * We recommend you use same padding, but you're welcome to use any padding.\n",
    "* Add bias\n",
    "* Add a nonlinear activation to the convolution.\n",
    "* Apply Max Pooling using `pool_ksize` and `pool_strides`.\n",
    " * We recommend you use same padding, but you're welcome to use any padding.\n",
    "\n",
    "**Note:** You **can't** use [TensorFlow Layers](https://www.tensorflow.org/api_docs/python/tf/layers) or [TensorFlow Layers (contrib)](https://www.tensorflow.org/api_guides/python/contrib.layers) for **this** layer, but you can still use TensorFlow's [Neural Network](https://www.tensorflow.org/api_docs/python/tf/nn) package. You may still use the shortcut option for all the **other** layers."
   ]
  },
  {
   "cell_type": "code",
   "execution_count": 14,
   "metadata": {
    "collapsed": false,
    "deletable": true,
    "editable": true
   },
   "outputs": [
    {
     "name": "stdout",
     "output_type": "stream",
     "text": [
      "Conv Layer Shape:  (?, 8, 8, 10)\n",
      "CL_Max_Pooling Shape:  (?, 4, 4, 10)\n",
      "Tests Passed\n"
     ]
    }
   ],
   "source": [
    "def conv2d_maxpool(x_tensor, conv_num_outputs, conv_ksize, conv_strides, pool_ksize, pool_strides):\n",
    "    \"\"\"\n",
    "    Apply convolution then max pooling to x_tensor\n",
    "    :param x_tensor: TensorFlow Tensor\n",
    "    :param conv_num_outputs: Number of outputs for the convolutional layer\n",
    "    :param conv_ksize: kernal size 2-D Tuple for the convolutional layer\n",
    "    :param conv_strides: Stride 2-D Tuple for convolution\n",
    "    :param pool_ksize: kernal size 2-D Tuple for pool\n",
    "    :param pool_strides: Stride 2-D Tuple for pool\n",
    "    : return: A tensor that represents convolution and max pooling of x_tensor\n",
    "    \"\"\"\n",
    "    \n",
    "    #Initialize and store key variables\n",
    "    input_height = int(x_tensor.get_shape()[1])\n",
    "    input_width = int(x_tensor.get_shape()[2])\n",
    "    input_depth = int (x_tensor.get_shape()[3])\n",
    "    padding = 1\n",
    "    batches = 1\n",
    "    \n",
    "    conv_height, conv_width = conv_ksize\n",
    "    pool_height, pool_width = pool_ksize\n",
    "    \n",
    "    conv_stride_height, conv_stride_width = conv_strides\n",
    "    pool_stride_height, pool_stride_width = pool_strides\n",
    "    \n",
    "    #Initialize conv_weights / conv_biases as tf.Variables \n",
    "    filter_weights = tf.Variable(tf.truncated_normal((conv_height, conv_width, input_depth, conv_num_outputs), stddev=5e-2))\n",
    "    filter_biases = tf.Variable(tf.zeros(conv_num_outputs))\n",
    "    \n",
    "    #Turn tuple vals into lists that can be passed into TF methods\n",
    "    conv_strides = [batches, conv_stride_height, conv_stride_width, 1]\n",
    "    pool_strides = [batches, pool_stride_height, pool_stride_width, 1]\n",
    "    pool_ksize = [batches, pool_height, pool_width, 1]\n",
    "    \n",
    "    #Apply convolution to x_tensor using conv_strides and add bias\n",
    "    conv = tf.nn.conv2d(x_tensor, filter_weights,conv_strides,padding='SAME')\n",
    "    conv = tf.nn.bias_add(conv, filter_biases)\n",
    "    conv = tf.nn.relu(conv)\n",
    "    \n",
    "    print (\"Conv Layer Shape: \", conv.get_shape())\n",
    "    \n",
    "    conv_maxpool = tf.nn.max_pool(conv, pool_ksize, pool_strides, padding='SAME')\n",
    "    \n",
    "    #Apply convolution to x_tensor using conv_strides and add bias\n",
    "    #conv_layer = tf.nn.conv2d(x_tensor, filter_weights, conv_strides, padding='SAME')\n",
    "    #conv_layer = tf.nn.bias_add(conv_layer, filter_biases)\n",
    "    #conv_layer = tf.nn.relu(conv_layer)\n",
    "    \n",
    "    #Apply Max Pooling using pool_ksize and pool_strides\n",
    "    #cl_max_pooling = tf.nn.max_pool(conv_layer, pool_ksize, pool_strides, padding='SAME')\n",
    "    \n",
    "    print(\"CL_Max_Pooling Shape: \", conv_maxpool.get_shape())\n",
    "    \n",
    "    return conv_maxpool\n",
    "\n",
    "\"\"\"\n",
    "DON'T MODIFY ANYTHING IN THIS CELL THAT IS BELOW THIS LINE\n",
    "\"\"\"\n",
    "tests.test_con_pool(conv2d_maxpool)"
   ]
  },
  {
   "cell_type": "markdown",
   "metadata": {
    "deletable": true,
    "editable": true
   },
   "source": [
    "### Flatten Layer\n",
    "Implement the `flatten` function to change the dimension of `x_tensor` from a 4-D tensor to a 2-D tensor.  The output should be the shape (*Batch Size*, *Flattened Image Size*). Shortcut option: you can use classes from the [TensorFlow Layers](https://www.tensorflow.org/api_docs/python/tf/layers) or [TensorFlow Layers (contrib)](https://www.tensorflow.org/api_guides/python/contrib.layers) packages for this layer. For more of a challenge, only use other TensorFlow packages."
   ]
  },
  {
   "cell_type": "code",
   "execution_count": 15,
   "metadata": {
    "collapsed": false,
    "deletable": true,
    "editable": true
   },
   "outputs": [
    {
     "name": "stdout",
     "output_type": "stream",
     "text": [
      "Tests Passed\n"
     ]
    }
   ],
   "source": [
    "def flatten(x_tensor):\n",
    "    \"\"\"\n",
    "    Flatten x_tensor to (Batch Size, Flattened Image Size)\n",
    "    : x_tensor: A tensor of size (Batch Size, ...), where ... are the image dimensions.\n",
    "    : return: A tensor of size (Batch Size, Flattened Image Size).\n",
    "    \"\"\"\n",
    "    return tf.contrib.layers.flatten(x_tensor)\n",
    "\n",
    "\n",
    "\"\"\"\n",
    "DON'T MODIFY ANYTHING IN THIS CELL THAT IS BELOW THIS LINE\n",
    "\"\"\"\n",
    "tests.test_flatten(flatten)"
   ]
  },
  {
   "cell_type": "markdown",
   "metadata": {
    "deletable": true,
    "editable": true
   },
   "source": [
    "### Fully-Connected Layer\n",
    "Implement the `fully_conn` function to apply a fully connected layer to `x_tensor` with the shape (*Batch Size*, *num_outputs*). Shortcut option: you can use classes from the [TensorFlow Layers](https://www.tensorflow.org/api_docs/python/tf/layers) or [TensorFlow Layers (contrib)](https://www.tensorflow.org/api_guides/python/contrib.layers) packages for this layer. For more of a challenge, only use other TensorFlow packages."
   ]
  },
  {
   "cell_type": "code",
   "execution_count": 16,
   "metadata": {
    "collapsed": false,
    "deletable": true,
    "editable": true
   },
   "outputs": [
    {
     "name": "stdout",
     "output_type": "stream",
     "text": [
      "Tests Passed\n"
     ]
    }
   ],
   "source": [
    "def fully_conn(x_tensor, num_outputs):\n",
    "    \"\"\"\n",
    "    Apply a fully connected layer to x_tensor using weight and bias\n",
    "    : x_tensor: A 2-D tensor where the first dimension is batch size.\n",
    "    : num_outputs: The number of output that the new tensor should be.\n",
    "    : return: A 2-D tensor where the second dimension is num_outputs.\n",
    "    \"\"\"\n",
    "    size = x_tensor.get_shape().as_list()\n",
    "    \n",
    "    weights = tf.Variable(tf.truncated_normal((size[1], num_outputs), stddev=5e-2))\n",
    "    bias = tf.Variable(tf.zeros(num_outputs))\n",
    "    dense = tf.add(tf.matmul(x_tensor, weights), bias)\n",
    "    fully_connected = tf.nn.relu(dense)\n",
    "    \n",
    "    #print (\"Fully Connected Shape: \", fully_connected.get_shape())\n",
    "    return fully_connected\n",
    "\n",
    "\n",
    "\"\"\"\n",
    "DON'T MODIFY ANYTHING IN THIS CELL THAT IS BELOW THIS LINE\n",
    "\"\"\"\n",
    "tests.test_fully_conn(fully_conn)"
   ]
  },
  {
   "cell_type": "markdown",
   "metadata": {
    "deletable": true,
    "editable": true
   },
   "source": [
    "### Output Layer\n",
    "Implement the `output` function to apply a fully connected layer to `x_tensor` with the shape (*Batch Size*, *num_outputs*). Shortcut option: you can use classes from the [TensorFlow Layers](https://www.tensorflow.org/api_docs/python/tf/layers) or [TensorFlow Layers (contrib)](https://www.tensorflow.org/api_guides/python/contrib.layers) packages for this layer. For more of a challenge, only use other TensorFlow packages.\n",
    "\n",
    "**Note:** Activation, softmax, or cross entropy should **not** be applied to this."
   ]
  },
  {
   "cell_type": "code",
   "execution_count": 17,
   "metadata": {
    "collapsed": false,
    "deletable": true,
    "editable": true
   },
   "outputs": [
    {
     "name": "stdout",
     "output_type": "stream",
     "text": [
      "Tests Passed\n"
     ]
    }
   ],
   "source": [
    "def output(x_tensor, num_outputs):\n",
    "    \"\"\"\n",
    "    Apply a output layer to x_tensor using weight and bias\n",
    "    : x_tensor: A 2-D tensor where the first dimension is batch size.\n",
    "    : num_outputs: The number of output that the new tensor should be.\n",
    "    : return: A 2-D tensor where the second dimension is num_outputs.\n",
    "    \"\"\"\n",
    "    return tf.reshape(x_tensor, [-1, num_outputs])\n",
    "\n",
    "\n",
    "\"\"\"\n",
    "DON'T MODIFY ANYTHING IN THIS CELL THAT IS BELOW THIS LINE\n",
    "\"\"\"\n",
    "tests.test_output(output)"
   ]
  },
  {
   "cell_type": "markdown",
   "metadata": {
    "deletable": true,
    "editable": true
   },
   "source": [
    "### Create Convolutional Model\n",
    "Implement the function `conv_net` to create a convolutional neural network model. The function takes in a batch of images, `x`, and outputs logits.  Use the layers you created above to create this model:\n",
    "\n",
    "* Apply 1, 2, or 3 Convolution and Max Pool layers\n",
    "* Apply a Flatten Layer\n",
    "* Apply 1, 2, or 3 Fully Connected Layers\n",
    "* Apply an Output Layer\n",
    "* Return the output\n",
    "* Apply [TensorFlow's Dropout](https://www.tensorflow.org/api_docs/python/tf/nn/dropout) to one or more layers in the model using `keep_prob`. "
   ]
  },
  {
   "cell_type": "code",
   "execution_count": 19,
   "metadata": {
    "collapsed": false,
    "deletable": true,
    "editable": true
   },
   "outputs": [
    {
     "name": "stdout",
     "output_type": "stream",
     "text": [
      "Conv Layer Shape:  (?, 32, 32, 20)\n",
      "CL_Max_Pooling Shape:  (?, 16, 16, 20)\n",
      "CL_MP_1 Shape:  (?, 16, 16, 20)\n",
      "Dropout 1 Shape:  (?, 16, 16, 20)\n",
      "Conv Layer Shape:  (?, 16, 16, 20)\n",
      "CL_Max_Pooling Shape:  (?, 8, 8, 20)\n",
      "CL_MP_2 Shape:  (?, 8, 8, 20)\n",
      "Dropout 2 Shape:  (?, 8, 8, 20)\n",
      "Flattened Shape:  (?, 1280)\n",
      "Fully Connected 1 Shape:  (?, 10)\n",
      "Fully Connected 2 Shape:  (?, 10)\n",
      "Output shape:  [None, 10]\n",
      "Conv Layer Shape:  (?, 32, 32, 20)\n",
      "CL_Max_Pooling Shape:  (?, 16, 16, 20)\n",
      "CL_MP_1 Shape:  (?, 16, 16, 20)\n",
      "Dropout 1 Shape:  (?, 16, 16, 20)\n",
      "Conv Layer Shape:  (?, 16, 16, 20)\n",
      "CL_Max_Pooling Shape:  (?, 8, 8, 20)\n",
      "CL_MP_2 Shape:  (?, 8, 8, 20)\n",
      "Dropout 2 Shape:  (?, 8, 8, 20)\n",
      "Flattened Shape:  (?, 1280)\n",
      "Fully Connected 1 Shape:  (?, 10)\n",
      "Fully Connected 2 Shape:  (?, 10)\n",
      "Output shape:  [None, 10]\n",
      "Neural Network Built!\n"
     ]
    }
   ],
   "source": [
    "def conv_net(x, keep_prob):\n",
    "    \"\"\"\n",
    "    Create a convolutional neural network model\n",
    "    : x: Placeholder tensor that holds image data.\n",
    "    : keep_prob: Placeholder tensor that hold dropout keep probability.\n",
    "    : return: Tensor that represents logits\n",
    "    \"\"\"\n",
    "    #Key Variables\n",
    "    conv_num_outputs = 20\n",
    "    conv_ksize = (4, 4)\n",
    "    conv_strides = (1, 1)\n",
    "    pool_ksize = (4, 4)\n",
    "    pool_strides = (2, 2)\n",
    "    num_outputs = 10\n",
    "    \n",
    "    # Convolutional Layers with Max Pooling & Dropout  \n",
    "    cl_mp_1 = conv2d_maxpool(x, conv_num_outputs, conv_ksize, conv_strides, pool_ksize, pool_strides)\n",
    "    print (\"CL_MP_1 Shape: \", cl_mp_1.get_shape())\n",
    "    dropout_1 = tf.contrib.layers.dropout(cl_mp_1, keep_prob)\n",
    "    print (\"Dropout 1 Shape: \", dropout_1.get_shape())\n",
    "    cl_mp_2 = conv2d_maxpool(dropout_1, conv_num_outputs, conv_ksize, conv_strides, pool_ksize, pool_strides)\n",
    "    print (\"CL_MP_2 Shape: \", cl_mp_2.get_shape())\n",
    "    dropout_2 = tf.contrib.layers.dropout(cl_mp_2, keep_prob)\n",
    "    print (\"Dropout 2 Shape: \", dropout_2.get_shape())\n",
    "\n",
    "    # Flatten Layer\n",
    "    flat_cl = flatten(dropout_2)\n",
    "    print (\"Flattened Shape: \", flat_cl.get_shape())\n",
    "\n",
    "    # Fully Connected Layers\n",
    "    connected_1 = fully_conn(flat_cl, num_outputs)\n",
    "    print (\"Fully Connected 1 Shape: \", connected_1.get_shape())\n",
    "    connected_2 = fully_conn(connected_1, num_outputs)\n",
    "    print (\"Fully Connected 2 Shape: \", connected_2.get_shape())\n",
    "    \n",
    "    # TODO: Apply an Output Layer\n",
    "    #    Set this to the number of classes\n",
    "    out = output(connected_2, num_outputs)\n",
    "    print (\"Output shape: \", out.get_shape().as_list())\n",
    "    \n",
    "    return out\n",
    "\n",
    "\n",
    "\"\"\"\n",
    "DON'T MODIFY ANYTHING IN THIS CELL THAT IS BELOW THIS LINE\n",
    "\"\"\"\n",
    "\n",
    "##############################\n",
    "## Build the Neural Network ##\n",
    "##############################\n",
    "\n",
    "# Remove previous weights, bias, inputs, etc..\n",
    "tf.reset_default_graph()\n",
    "\n",
    "# Inputs\n",
    "x = neural_net_image_input((32, 32, 3))\n",
    "y = neural_net_label_input(10)\n",
    "keep_prob = neural_net_keep_prob_input()\n",
    "\n",
    "# Model\n",
    "logits = conv_net(x, keep_prob)\n",
    "\n",
    "# Name logits Tensor, so that is can be loaded from disk after training\n",
    "logits = tf.identity(logits, name='logits')\n",
    "\n",
    "# Loss and Optimizer\n",
    "cost = tf.reduce_mean(tf.nn.softmax_cross_entropy_with_logits(logits=logits, labels=y))\n",
    "optimizer = tf.train.AdamOptimizer().minimize(cost)\n",
    "\n",
    "# Accuracy\n",
    "correct_pred = tf.equal(tf.argmax(logits, 1), tf.argmax(y, 1))\n",
    "accuracy = tf.reduce_mean(tf.cast(correct_pred, tf.float32), name='accuracy')\n",
    "\n",
    "tests.test_conv_net(conv_net)"
   ]
  },
  {
   "cell_type": "markdown",
   "metadata": {
    "deletable": true,
    "editable": true
   },
   "source": [
    "## Train the Neural Network\n",
    "### Single Optimization\n",
    "Implement the function `train_neural_network` to do a single optimization.  The optimization should use `optimizer` to optimize in `session` with a `feed_dict` of the following:\n",
    "* `x` for image input\n",
    "* `y` for labels\n",
    "* `keep_prob` for keep probability for dropout\n",
    "\n",
    "This function will be called for each batch, so `tf.global_variables_initializer()` has already been called.\n",
    "\n",
    "Note: Nothing needs to be returned. This function is only optimizing the neural network."
   ]
  },
  {
   "cell_type": "code",
   "execution_count": 22,
   "metadata": {
    "collapsed": false,
    "deletable": true,
    "editable": true
   },
   "outputs": [
    {
     "name": "stdout",
     "output_type": "stream",
     "text": [
      "Tests Passed\n"
     ]
    }
   ],
   "source": [
    "def train_neural_network(Session, optimizer, keep_probability, feature_batch, label_batch):\n",
    "    \"\"\"\n",
    "    Optimize the session on a batch of images and labels\n",
    "    : session: Current TensorFlow session\n",
    "    : optimizer: TensorFlow optimizer function\n",
    "    : keep_probability: keep probability\n",
    "    : feature_batch: Batch of Numpy image data\n",
    "    : label_batch: Batch of Numpy label data\n",
    "    \"\"\"\n",
    "    #Run session\n",
    "    with Session.as_default() as sesh:\n",
    "        \n",
    "        #tf.global_variables_initializer() already called\n",
    "        #print(feature_batch.shape, label_batch.shape)\n",
    "        sesh.run(optimizer, feed_dict={\n",
    "            x : feature_batch, \n",
    "            y : label_batch, \n",
    "            keep_prob : keep_probability\n",
    "        })\n",
    "    pass\n",
    "\n",
    "\n",
    "\"\"\"\n",
    "DON'T MODIFY ANYTHING IN THIS CELL THAT IS BELOW THIS LINE\n",
    "\"\"\"\n",
    "tests.test_train_nn(train_neural_network)"
   ]
  },
  {
   "cell_type": "markdown",
   "metadata": {
    "deletable": true,
    "editable": true
   },
   "source": [
    "### Show Stats\n",
    "Implement the function `print_stats` to print loss and validation accuracy.  Use the global variables `valid_features` and `valid_labels` to calculate validation accuracy.  Use a keep probability of `1.0` to calculate the loss and validation accuracy."
   ]
  },
  {
   "cell_type": "code",
   "execution_count": 27,
   "metadata": {
    "collapsed": false,
    "deletable": true,
    "editable": true
   },
   "outputs": [],
   "source": [
    "def print_stats(Session, feature_batch, label_batch, cost, accuracy):\n",
    "    \"\"\"\n",
    "    Print information about loss and validation accuracy\n",
    "    : session: Current TensorFlow session\n",
    "    : feature_batch: Batch of Numpy image data\n",
    "    : label_batch: Batch of Numpy label data\n",
    "    : cost: TensorFlow cost function\n",
    "    : accuracy: TensorFlow accuracy function\n",
    "    \"\"\"\n",
    "    # TODO: Implement Function\n",
    "    with Session.as_default() as sesh:\n",
    "        \n",
    "        #Calculate loss\n",
    "        loss = sesh.run(cost, feed_dict={\n",
    "            x : feature_batch, \n",
    "            y : label_batch,\n",
    "            keep_prob : 1\n",
    "        })\n",
    "        \n",
    "        #Calculate validation accuracy\n",
    "        valid_accuracy = sesh.run(accuracy, feed_dict={\n",
    "            x : valid_features,\n",
    "            y : valid_labels, \n",
    "            keep_prob : 1\n",
    "        })\n",
    "        \n",
    "        #Print stats\n",
    "        print (\"Loss: {}, Validation Accuracy: {}\".format(loss, valid_accuracy))\n",
    "        \n",
    "    pass"
   ]
  },
  {
   "cell_type": "markdown",
   "metadata": {
    "deletable": true,
    "editable": true
   },
   "source": [
    "### Hyperparameters\n",
    "Tune the following parameters:\n",
    "* Set `epochs` to the number of iterations until the network stops learning or start overfitting\n",
    "* Set `batch_size` to the highest number that your machine has memory for.  Most people set them to common sizes of memory:\n",
    " * 64\n",
    " * 128\n",
    " * 256\n",
    " * ...\n",
    "* Set `keep_probability` to the probability of keeping a node using dropout"
   ]
  },
  {
   "cell_type": "code",
   "execution_count": 28,
   "metadata": {
    "collapsed": true,
    "deletable": true,
    "editable": true
   },
   "outputs": [],
   "source": [
    "# TODO: Tune Parameters\n",
    "epochs = 40\n",
    "batch_size = 256\n",
    "keep_probability = 1"
   ]
  },
  {
   "cell_type": "markdown",
   "metadata": {
    "deletable": true,
    "editable": true
   },
   "source": [
    "### Train on a Single CIFAR-10 Batch\n",
    "Instead of training the neural network on all the CIFAR-10 batches of data, let's use a single batch. This should save time while you iterate on the model to get a better accuracy.  Once the final validation accuracy is 50% or greater, run the model on all the data in the next section."
   ]
  },
  {
   "cell_type": "code",
   "execution_count": 29,
   "metadata": {
    "collapsed": false,
    "deletable": true,
    "editable": true
   },
   "outputs": [
    {
     "name": "stdout",
     "output_type": "stream",
     "text": [
      "Checking the Training on a Single Batch...\n",
      "Epoch  1, CIFAR-10 Batch 1:  Loss: 2.284245014190674, Validation Accuracy: 0.17000000178813934\n",
      "Epoch  2, CIFAR-10 Batch 1:  Loss: 2.275859832763672, Validation Accuracy: 0.16019999980926514\n",
      "Epoch  3, CIFAR-10 Batch 1:  Loss: 2.265367031097412, Validation Accuracy: 0.14639998972415924\n",
      "Epoch  4, CIFAR-10 Batch 1:  Loss: 2.260369062423706, Validation Accuracy: 0.1451999992132187\n",
      "Epoch  5, CIFAR-10 Batch 1:  Loss: 2.2595057487487793, Validation Accuracy: 0.16759999096393585\n",
      "Epoch  6, CIFAR-10 Batch 1:  Loss: 2.2493579387664795, Validation Accuracy: 0.17019999027252197\n",
      "Epoch  7, CIFAR-10 Batch 1:  Loss: 2.2371652126312256, Validation Accuracy: 0.18459999561309814\n",
      "Epoch  8, CIFAR-10 Batch 1:  Loss: 2.229734182357788, Validation Accuracy: 0.20099999010562897\n",
      "Epoch  9, CIFAR-10 Batch 1:  Loss: 2.210723638534546, Validation Accuracy: 0.19920000433921814\n",
      "Epoch 10, CIFAR-10 Batch 1:  Loss: 2.1968414783477783, Validation Accuracy: 0.19979998469352722\n",
      "Epoch 11, CIFAR-10 Batch 1:  Loss: 2.192017078399658, Validation Accuracy: 0.18619999289512634\n",
      "Epoch 12, CIFAR-10 Batch 1:  Loss: 2.1763978004455566, Validation Accuracy: 0.1964000016450882\n",
      "Epoch 13, CIFAR-10 Batch 1:  Loss: 2.1709628105163574, Validation Accuracy: 0.19739998877048492\n",
      "Epoch 14, CIFAR-10 Batch 1:  Loss: 2.1818389892578125, Validation Accuracy: 0.1889999955892563\n",
      "Epoch 15, CIFAR-10 Batch 1:  Loss: 2.1876440048217773, Validation Accuracy: 0.20559997856616974\n",
      "Epoch 16, CIFAR-10 Batch 1:  Loss: 2.159970998764038, Validation Accuracy: 0.19839999079704285\n",
      "Epoch 17, CIFAR-10 Batch 1:  Loss: 2.155574321746826, Validation Accuracy: 0.19499997794628143\n",
      "Epoch 18, CIFAR-10 Batch 1:  Loss: 2.1572866439819336, Validation Accuracy: 0.19519998133182526\n",
      "Epoch 19, CIFAR-10 Batch 1:  Loss: 2.1656806468963623, Validation Accuracy: 0.20320001244544983\n",
      "Epoch 20, CIFAR-10 Batch 1:  Loss: 2.1468844413757324, Validation Accuracy: 0.20319999754428864\n",
      "Epoch 21, CIFAR-10 Batch 1:  Loss: 2.1436476707458496, Validation Accuracy: 0.2003999948501587\n",
      "Epoch 22, CIFAR-10 Batch 1:  Loss: 2.141260862350464, Validation Accuracy: 0.19999998807907104\n",
      "Epoch 23, CIFAR-10 Batch 1:  Loss: 2.138345241546631, Validation Accuracy: 0.1979999840259552\n",
      "Epoch 24, CIFAR-10 Batch 1:  Loss: 2.137890100479126, Validation Accuracy: 0.19659999012947083\n",
      "Epoch 25, CIFAR-10 Batch 1:  Loss: 2.1357932090759277, Validation Accuracy: 0.20200000703334808\n",
      "Epoch 26, CIFAR-10 Batch 1:  Loss: 2.140052556991577, Validation Accuracy: 0.2043999880552292\n",
      "Epoch 27, CIFAR-10 Batch 1:  Loss: 2.1457161903381348, Validation Accuracy: 0.19659999012947083\n",
      "Epoch 28, CIFAR-10 Batch 1:  Loss: 2.156825065612793, Validation Accuracy: 0.19900000095367432\n",
      "Epoch 29, CIFAR-10 Batch 1:  Loss: 2.1533703804016113, Validation Accuracy: 0.19839999079704285\n",
      "Epoch 30, CIFAR-10 Batch 1:  Loss: 2.1484506130218506, Validation Accuracy: 0.1987999975681305\n",
      "Epoch 31, CIFAR-10 Batch 1:  Loss: 2.14371395111084, Validation Accuracy: 0.19819998741149902\n",
      "Epoch 32, CIFAR-10 Batch 1:  Loss: 2.142364025115967, Validation Accuracy: 0.19979998469352722\n",
      "Epoch 33, CIFAR-10 Batch 1:  Loss: 2.141244411468506, Validation Accuracy: 0.1995999962091446\n",
      "Epoch 34, CIFAR-10 Batch 1:  Loss: 2.147207260131836, Validation Accuracy: 0.2029999941587448\n",
      "Epoch 35, CIFAR-10 Batch 1:  Loss: 2.1400959491729736, Validation Accuracy: 0.204599991440773\n",
      "Epoch 36, CIFAR-10 Batch 1:  Loss: 2.132652759552002, Validation Accuracy: 0.2053999900817871\n",
      "Epoch 37, CIFAR-10 Batch 1:  Loss: 2.129117012023926, Validation Accuracy: 0.20600000023841858\n",
      "Epoch 38, CIFAR-10 Batch 1:  Loss: 2.1232492923736572, Validation Accuracy: 0.20639999210834503\n",
      "Epoch 39, CIFAR-10 Batch 1:  Loss: 2.118718147277832, Validation Accuracy: 0.2053999900817871\n",
      "Epoch 40, CIFAR-10 Batch 1:  Loss: 2.1188809871673584, Validation Accuracy: 0.20599998533725739\n"
     ]
    }
   ],
   "source": [
    "\"\"\"\n",
    "DON'T MODIFY ANYTHING IN THIS CELL\n",
    "\"\"\"\n",
    "print('Checking the Training on a Single Batch...')\n",
    "with tf.Session() as sess:\n",
    "    # Initializing the variables\n",
    "    sess.run(tf.global_variables_initializer())\n",
    "    \n",
    "    # Training cycle\n",
    "    for epoch in range(epochs):\n",
    "        batch_i = 1\n",
    "        for batch_features, batch_labels in helper.load_preprocess_training_batch(batch_i, batch_size):\n",
    "            train_neural_network(sess, optimizer, keep_probability, batch_features, batch_labels)\n",
    "        print('Epoch {:>2}, CIFAR-10 Batch {}:  '.format(epoch + 1, batch_i), end='')\n",
    "        print_stats(sess, batch_features, batch_labels, cost, accuracy)"
   ]
  },
  {
   "cell_type": "markdown",
   "metadata": {
    "deletable": true,
    "editable": true
   },
   "source": [
    "### Fully Train the Model\n",
    "Now that you got a good accuracy with a single CIFAR-10 batch, try it with all five batches."
   ]
  },
  {
   "cell_type": "code",
   "execution_count": 30,
   "metadata": {
    "collapsed": false,
    "deletable": true,
    "editable": true
   },
   "outputs": [
    {
     "name": "stdout",
     "output_type": "stream",
     "text": [
      "Training...\n",
      "Epoch  1, CIFAR-10 Batch 1:  Loss: 2.26788592338562, Validation Accuracy: 0.14079999923706055\n",
      "Epoch  1, CIFAR-10 Batch 2:  Loss: 2.217827081680298, Validation Accuracy: 0.24219997227191925\n",
      "Epoch  1, CIFAR-10 Batch 3:  Loss: 2.1784627437591553, Validation Accuracy: 0.2529999911785126\n",
      "Epoch  1, CIFAR-10 Batch 4:  Loss: 2.1826682090759277, Validation Accuracy: 0.28299999237060547\n",
      "Epoch  1, CIFAR-10 Batch 5:  Loss: 1.966839075088501, Validation Accuracy: 0.3199999928474426\n",
      "Epoch  2, CIFAR-10 Batch 1:  Loss: 2.0188581943511963, Validation Accuracy: 0.32179996371269226\n",
      "Epoch  2, CIFAR-10 Batch 2:  Loss: 1.9957654476165771, Validation Accuracy: 0.3511999845504761\n",
      "Epoch  2, CIFAR-10 Batch 3:  Loss: 2.011164903640747, Validation Accuracy: 0.3723999857902527\n",
      "Epoch  2, CIFAR-10 Batch 4:  Loss: 2.079495906829834, Validation Accuracy: 0.39079999923706055\n",
      "Epoch  2, CIFAR-10 Batch 5:  Loss: 1.8364038467407227, Validation Accuracy: 0.3845999836921692\n",
      "Epoch  3, CIFAR-10 Batch 1:  Loss: 1.9414962530136108, Validation Accuracy: 0.3521999716758728\n",
      "Epoch  3, CIFAR-10 Batch 2:  Loss: 1.9312758445739746, Validation Accuracy: 0.3937999904155731\n",
      "Epoch  3, CIFAR-10 Batch 3:  Loss: 1.8653934001922607, Validation Accuracy: 0.3906000256538391\n",
      "Epoch  3, CIFAR-10 Batch 4:  Loss: 1.9853562116622925, Validation Accuracy: 0.4121999740600586\n",
      "Epoch  3, CIFAR-10 Batch 5:  Loss: 1.754966378211975, Validation Accuracy: 0.41519996523857117\n",
      "Epoch  4, CIFAR-10 Batch 1:  Loss: 1.8313100337982178, Validation Accuracy: 0.3846000134944916\n",
      "Epoch  4, CIFAR-10 Batch 2:  Loss: 1.8662647008895874, Validation Accuracy: 0.4177999496459961\n",
      "Epoch  4, CIFAR-10 Batch 3:  Loss: 1.737746238708496, Validation Accuracy: 0.4177999794483185\n",
      "Epoch  4, CIFAR-10 Batch 4:  Loss: 1.8310222625732422, Validation Accuracy: 0.4217999577522278\n",
      "Epoch  4, CIFAR-10 Batch 5:  Loss: 1.6719741821289062, Validation Accuracy: 0.43039998412132263\n",
      "Epoch  5, CIFAR-10 Batch 1:  Loss: 1.794445514678955, Validation Accuracy: 0.4229999780654907\n",
      "Epoch  5, CIFAR-10 Batch 2:  Loss: 1.8217695951461792, Validation Accuracy: 0.4413999915122986\n",
      "Epoch  5, CIFAR-10 Batch 3:  Loss: 1.5617908239364624, Validation Accuracy: 0.45079997181892395\n",
      "Epoch  5, CIFAR-10 Batch 4:  Loss: 1.6817899942398071, Validation Accuracy: 0.45419996976852417\n",
      "Epoch  5, CIFAR-10 Batch 5:  Loss: 1.5599218606948853, Validation Accuracy: 0.4505999684333801\n",
      "Epoch  6, CIFAR-10 Batch 1:  Loss: 1.735006332397461, Validation Accuracy: 0.4611999988555908\n",
      "Epoch  6, CIFAR-10 Batch 2:  Loss: 1.7670619487762451, Validation Accuracy: 0.4668000042438507\n",
      "Epoch  6, CIFAR-10 Batch 3:  Loss: 1.485163927078247, Validation Accuracy: 0.46779996156692505\n",
      "Epoch  6, CIFAR-10 Batch 4:  Loss: 1.6154491901397705, Validation Accuracy: 0.4771999716758728\n",
      "Epoch  6, CIFAR-10 Batch 5:  Loss: 1.4911103248596191, Validation Accuracy: 0.4625999629497528\n",
      "Epoch  7, CIFAR-10 Batch 1:  Loss: 1.6726957559585571, Validation Accuracy: 0.47499996423721313\n",
      "Epoch  7, CIFAR-10 Batch 2:  Loss: 1.7216006517410278, Validation Accuracy: 0.48559993505477905\n",
      "Epoch  7, CIFAR-10 Batch 3:  Loss: 1.4334381818771362, Validation Accuracy: 0.4789999723434448\n",
      "Epoch  7, CIFAR-10 Batch 4:  Loss: 1.547877550125122, Validation Accuracy: 0.4927999675273895\n",
      "Epoch  7, CIFAR-10 Batch 5:  Loss: 1.4412314891815186, Validation Accuracy: 0.47019994258880615\n",
      "Epoch  8, CIFAR-10 Batch 1:  Loss: 1.6265530586242676, Validation Accuracy: 0.4931999444961548\n",
      "Epoch  8, CIFAR-10 Batch 2:  Loss: 1.6599552631378174, Validation Accuracy: 0.5019999742507935\n",
      "Epoch  8, CIFAR-10 Batch 3:  Loss: 1.3832194805145264, Validation Accuracy: 0.4897999167442322\n",
      "Epoch  8, CIFAR-10 Batch 4:  Loss: 1.492470383644104, Validation Accuracy: 0.5058000087738037\n",
      "Epoch  8, CIFAR-10 Batch 5:  Loss: 1.4055644273757935, Validation Accuracy: 0.4795999526977539\n",
      "Epoch  9, CIFAR-10 Batch 1:  Loss: 1.5602693557739258, Validation Accuracy: 0.5035999417304993\n",
      "Epoch  9, CIFAR-10 Batch 2:  Loss: 1.611620306968689, Validation Accuracy: 0.500999927520752\n",
      "Epoch  9, CIFAR-10 Batch 3:  Loss: 1.3452634811401367, Validation Accuracy: 0.4997999370098114\n",
      "Epoch  9, CIFAR-10 Batch 4:  Loss: 1.4495398998260498, Validation Accuracy: 0.5105999708175659\n",
      "Epoch  9, CIFAR-10 Batch 5:  Loss: 1.3737561702728271, Validation Accuracy: 0.4875999391078949\n",
      "Epoch 10, CIFAR-10 Batch 1:  Loss: 1.5230395793914795, Validation Accuracy: 0.5071999430656433\n",
      "Epoch 10, CIFAR-10 Batch 2:  Loss: 1.559338092803955, Validation Accuracy: 0.5113999247550964\n",
      "Epoch 10, CIFAR-10 Batch 3:  Loss: 1.309670329093933, Validation Accuracy: 0.5103999376296997\n",
      "Epoch 10, CIFAR-10 Batch 4:  Loss: 1.4140331745147705, Validation Accuracy: 0.5169999599456787\n",
      "Epoch 10, CIFAR-10 Batch 5:  Loss: 1.3491003513336182, Validation Accuracy: 0.4997999370098114\n",
      "Epoch 11, CIFAR-10 Batch 1:  Loss: 1.486851453781128, Validation Accuracy: 0.51419997215271\n",
      "Epoch 11, CIFAR-10 Batch 2:  Loss: 1.5087941884994507, Validation Accuracy: 0.5227999687194824\n",
      "Epoch 11, CIFAR-10 Batch 3:  Loss: 1.2823891639709473, Validation Accuracy: 0.527199923992157\n",
      "Epoch 11, CIFAR-10 Batch 4:  Loss: 1.383707046508789, Validation Accuracy: 0.5153999328613281\n",
      "Epoch 11, CIFAR-10 Batch 5:  Loss: 1.3265184164047241, Validation Accuracy: 0.507599949836731\n",
      "Epoch 12, CIFAR-10 Batch 1:  Loss: 1.4539276361465454, Validation Accuracy: 0.5201999545097351\n",
      "Epoch 12, CIFAR-10 Batch 2:  Loss: 1.4687713384628296, Validation Accuracy: 0.5277999639511108\n",
      "Epoch 12, CIFAR-10 Batch 3:  Loss: 1.262162446975708, Validation Accuracy: 0.535599946975708\n",
      "Epoch 12, CIFAR-10 Batch 4:  Loss: 1.3548187017440796, Validation Accuracy: 0.5199999809265137\n",
      "Epoch 12, CIFAR-10 Batch 5:  Loss: 1.3035614490509033, Validation Accuracy: 0.5127999186515808\n",
      "Epoch 13, CIFAR-10 Batch 1:  Loss: 1.4444960355758667, Validation Accuracy: 0.5205999612808228\n",
      "Epoch 13, CIFAR-10 Batch 2:  Loss: 1.4469996690750122, Validation Accuracy: 0.5369999408721924\n",
      "Epoch 13, CIFAR-10 Batch 3:  Loss: 1.2484803199768066, Validation Accuracy: 0.540199875831604\n",
      "Epoch 13, CIFAR-10 Batch 4:  Loss: 1.3325083255767822, Validation Accuracy: 0.5229999423027039\n",
      "Epoch 13, CIFAR-10 Batch 5:  Loss: 1.2790366411209106, Validation Accuracy: 0.5209999084472656\n",
      "Epoch 14, CIFAR-10 Batch 1:  Loss: 1.4218978881835938, Validation Accuracy: 0.5207999348640442\n",
      "Epoch 14, CIFAR-10 Batch 2:  Loss: 1.4227406978607178, Validation Accuracy: 0.5401999950408936\n",
      "Epoch 14, CIFAR-10 Batch 3:  Loss: 1.238386869430542, Validation Accuracy: 0.5443999171257019\n",
      "Epoch 14, CIFAR-10 Batch 4:  Loss: 1.314110517501831, Validation Accuracy: 0.5273998975753784\n",
      "Epoch 14, CIFAR-10 Batch 5:  Loss: 1.2560771703720093, Validation Accuracy: 0.5267999172210693\n",
      "Epoch 15, CIFAR-10 Batch 1:  Loss: 1.4076751470565796, Validation Accuracy: 0.5211999416351318\n",
      "Epoch 15, CIFAR-10 Batch 2:  Loss: 1.4057191610336304, Validation Accuracy: 0.5451999306678772\n",
      "Epoch 15, CIFAR-10 Batch 3:  Loss: 1.2314112186431885, Validation Accuracy: 0.5457999110221863\n",
      "Epoch 15, CIFAR-10 Batch 4:  Loss: 1.2940070629119873, Validation Accuracy: 0.5365999341011047\n",
      "Epoch 15, CIFAR-10 Batch 5:  Loss: 1.233108401298523, Validation Accuracy: 0.5311999320983887\n",
      "Epoch 16, CIFAR-10 Batch 1:  Loss: 1.39766263961792, Validation Accuracy: 0.5301999449729919\n",
      "Epoch 16, CIFAR-10 Batch 2:  Loss: 1.3987866640090942, Validation Accuracy: 0.5469999313354492\n",
      "Epoch 16, CIFAR-10 Batch 3:  Loss: 1.225350260734558, Validation Accuracy: 0.5481999516487122\n",
      "Epoch 16, CIFAR-10 Batch 4:  Loss: 1.2766199111938477, Validation Accuracy: 0.5387999415397644\n",
      "Epoch 16, CIFAR-10 Batch 5:  Loss: 1.215339183807373, Validation Accuracy: 0.5377999544143677\n",
      "Epoch 17, CIFAR-10 Batch 1:  Loss: 1.3791327476501465, Validation Accuracy: 0.5317999124526978\n",
      "Epoch 17, CIFAR-10 Batch 2:  Loss: 1.386250615119934, Validation Accuracy: 0.5509999394416809\n",
      "Epoch 17, CIFAR-10 Batch 3:  Loss: 1.2182047367095947, Validation Accuracy: 0.5525999665260315\n",
      "Epoch 17, CIFAR-10 Batch 4:  Loss: 1.2590601444244385, Validation Accuracy: 0.5445999503135681\n",
      "Epoch 17, CIFAR-10 Batch 5:  Loss: 1.1937978267669678, Validation Accuracy: 0.5433999300003052\n",
      "Epoch 18, CIFAR-10 Batch 1:  Loss: 1.3596422672271729, Validation Accuracy: 0.533799946308136\n",
      "Epoch 18, CIFAR-10 Batch 2:  Loss: 1.373740315437317, Validation Accuracy: 0.5537999868392944\n",
      "Epoch 18, CIFAR-10 Batch 3:  Loss: 1.2133519649505615, Validation Accuracy: 0.557999849319458\n",
      "Epoch 18, CIFAR-10 Batch 4:  Loss: 1.2428913116455078, Validation Accuracy: 0.5495999455451965\n",
      "Epoch 18, CIFAR-10 Batch 5:  Loss: 1.1757875680923462, Validation Accuracy: 0.5455999374389648\n",
      "Epoch 19, CIFAR-10 Batch 1:  Loss: 1.3337613344192505, Validation Accuracy: 0.5375999212265015\n",
      "Epoch 19, CIFAR-10 Batch 2:  Loss: 1.3536021709442139, Validation Accuracy: 0.5583999156951904\n",
      "Epoch 19, CIFAR-10 Batch 3:  Loss: 1.206043004989624, Validation Accuracy: 0.5619999170303345\n",
      "Epoch 19, CIFAR-10 Batch 4:  Loss: 1.230163812637329, Validation Accuracy: 0.5515999794006348\n",
      "Epoch 19, CIFAR-10 Batch 5:  Loss: 1.1531237363815308, Validation Accuracy: 0.5513999462127686\n",
      "Epoch 20, CIFAR-10 Batch 1:  Loss: 1.3147201538085938, Validation Accuracy: 0.5395999550819397\n",
      "Epoch 20, CIFAR-10 Batch 2:  Loss: 1.3386787176132202, Validation Accuracy: 0.562999963760376\n",
      "Epoch 20, CIFAR-10 Batch 3:  Loss: 1.1960116624832153, Validation Accuracy: 0.5655999183654785\n",
      "Epoch 20, CIFAR-10 Batch 4:  Loss: 1.2213977575302124, Validation Accuracy: 0.5557999610900879\n",
      "Epoch 20, CIFAR-10 Batch 5:  Loss: 1.1342803239822388, Validation Accuracy: 0.5587999224662781\n",
      "Epoch 21, CIFAR-10 Batch 1:  Loss: 1.3029882907867432, Validation Accuracy: 0.5453999042510986\n",
      "Epoch 21, CIFAR-10 Batch 2:  Loss: 1.3324826955795288, Validation Accuracy: 0.5685999393463135\n",
      "Epoch 21, CIFAR-10 Batch 3:  Loss: 1.1885621547698975, Validation Accuracy: 0.5707999467849731\n",
      "Epoch 21, CIFAR-10 Batch 4:  Loss: 1.2059370279312134, Validation Accuracy: 0.5601999163627625\n",
      "Epoch 21, CIFAR-10 Batch 5:  Loss: 1.117824912071228, Validation Accuracy: 0.5623999238014221\n",
      "Epoch 22, CIFAR-10 Batch 1:  Loss: 1.2794182300567627, Validation Accuracy: 0.5509999990463257\n",
      "Epoch 22, CIFAR-10 Batch 2:  Loss: 1.3190479278564453, Validation Accuracy: 0.5751999616622925\n",
      "Epoch 22, CIFAR-10 Batch 3:  Loss: 1.1728935241699219, Validation Accuracy: 0.5771999359130859\n",
      "Epoch 22, CIFAR-10 Batch 4:  Loss: 1.1952533721923828, Validation Accuracy: 0.5622000098228455\n",
      "Epoch 22, CIFAR-10 Batch 5:  Loss: 1.099452018737793, Validation Accuracy: 0.5653999447822571\n",
      "Epoch 23, CIFAR-10 Batch 1:  Loss: 1.265855073928833, Validation Accuracy: 0.5529999136924744\n",
      "Epoch 23, CIFAR-10 Batch 2:  Loss: 1.3118807077407837, Validation Accuracy: 0.5763999223709106\n",
      "Epoch 23, CIFAR-10 Batch 3:  Loss: 1.158255696296692, Validation Accuracy: 0.5793999433517456\n",
      "Epoch 23, CIFAR-10 Batch 4:  Loss: 1.1814851760864258, Validation Accuracy: 0.5671998858451843\n",
      "Epoch 23, CIFAR-10 Batch 5:  Loss: 1.085911750793457, Validation Accuracy: 0.5667999386787415\n",
      "Epoch 24, CIFAR-10 Batch 1:  Loss: 1.2504463195800781, Validation Accuracy: 0.5565999150276184\n",
      "Epoch 24, CIFAR-10 Batch 2:  Loss: 1.2981066703796387, Validation Accuracy: 0.5809999108314514\n",
      "Epoch 24, CIFAR-10 Batch 3:  Loss: 1.1441351175308228, Validation Accuracy: 0.5829999446868896\n",
      "Epoch 24, CIFAR-10 Batch 4:  Loss: 1.1719415187835693, Validation Accuracy: 0.5723998546600342\n",
      "Epoch 24, CIFAR-10 Batch 5:  Loss: 1.0629549026489258, Validation Accuracy: 0.571199893951416\n",
      "Epoch 25, CIFAR-10 Batch 1:  Loss: 1.2372994422912598, Validation Accuracy: 0.5625998973846436\n",
      "Epoch 25, CIFAR-10 Batch 2:  Loss: 1.2855106592178345, Validation Accuracy: 0.5797998905181885\n",
      "Epoch 25, CIFAR-10 Batch 3:  Loss: 1.1316777467727661, Validation Accuracy: 0.5839998722076416\n",
      "Epoch 25, CIFAR-10 Batch 4:  Loss: 1.1603507995605469, Validation Accuracy: 0.5725999474525452\n",
      "Epoch 25, CIFAR-10 Batch 5:  Loss: 1.0431571006774902, Validation Accuracy: 0.5733999013900757\n",
      "Epoch 26, CIFAR-10 Batch 1:  Loss: 1.2281607389450073, Validation Accuracy: 0.5649999380111694\n",
      "Epoch 26, CIFAR-10 Batch 2:  Loss: 1.2724664211273193, Validation Accuracy: 0.5823999643325806\n",
      "Epoch 26, CIFAR-10 Batch 3:  Loss: 1.1221476793289185, Validation Accuracy: 0.5839998722076416\n",
      "Epoch 26, CIFAR-10 Batch 4:  Loss: 1.1512701511383057, Validation Accuracy: 0.5775998830795288\n",
      "Epoch 26, CIFAR-10 Batch 5:  Loss: 1.0227038860321045, Validation Accuracy: 0.577799916267395\n",
      "Epoch 27, CIFAR-10 Batch 1:  Loss: 1.2127695083618164, Validation Accuracy: 0.5695999264717102\n",
      "Epoch 27, CIFAR-10 Batch 2:  Loss: 1.260023593902588, Validation Accuracy: 0.5853999257087708\n",
      "Epoch 27, CIFAR-10 Batch 3:  Loss: 1.109275460243225, Validation Accuracy: 0.5841999650001526\n",
      "Epoch 27, CIFAR-10 Batch 4:  Loss: 1.1380598545074463, Validation Accuracy: 0.5805999636650085\n",
      "Epoch 27, CIFAR-10 Batch 5:  Loss: 1.0022304058074951, Validation Accuracy: 0.5811999440193176\n",
      "Epoch 28, CIFAR-10 Batch 1:  Loss: 1.195990800857544, Validation Accuracy: 0.5721998810768127\n",
      "Epoch 28, CIFAR-10 Batch 2:  Loss: 1.2453922033309937, Validation Accuracy: 0.5857999324798584\n",
      "Epoch 28, CIFAR-10 Batch 3:  Loss: 1.094393014907837, Validation Accuracy: 0.5897999405860901\n",
      "Epoch 28, CIFAR-10 Batch 4:  Loss: 1.1284723281860352, Validation Accuracy: 0.5799999237060547\n",
      "Epoch 28, CIFAR-10 Batch 5:  Loss: 0.9886839985847473, Validation Accuracy: 0.5831998586654663\n",
      "Epoch 29, CIFAR-10 Batch 1:  Loss: 1.1874196529388428, Validation Accuracy: 0.5717998743057251\n",
      "Epoch 29, CIFAR-10 Batch 2:  Loss: 1.2328096628189087, Validation Accuracy: 0.5859999060630798\n",
      "Epoch 29, CIFAR-10 Batch 3:  Loss: 1.0844120979309082, Validation Accuracy: 0.5905998945236206\n",
      "Epoch 29, CIFAR-10 Batch 4:  Loss: 1.1177369356155396, Validation Accuracy: 0.5785999298095703\n",
      "Epoch 29, CIFAR-10 Batch 5:  Loss: 0.974136233329773, Validation Accuracy: 0.5859999656677246\n",
      "Epoch 30, CIFAR-10 Batch 1:  Loss: 1.1815290451049805, Validation Accuracy: 0.572999894618988\n",
      "Epoch 30, CIFAR-10 Batch 2:  Loss: 1.2244514226913452, Validation Accuracy: 0.5867999196052551\n",
      "Epoch 30, CIFAR-10 Batch 3:  Loss: 1.0706408023834229, Validation Accuracy: 0.5921999216079712\n",
      "Epoch 30, CIFAR-10 Batch 4:  Loss: 1.1062450408935547, Validation Accuracy: 0.5809999108314514\n",
      "Epoch 30, CIFAR-10 Batch 5:  Loss: 0.9631404280662537, Validation Accuracy: 0.5885999202728271\n",
      "Epoch 31, CIFAR-10 Batch 1:  Loss: 1.16902756690979, Validation Accuracy: 0.5721999406814575\n",
      "Epoch 31, CIFAR-10 Batch 2:  Loss: 1.212984323501587, Validation Accuracy: 0.5911999344825745\n",
      "Epoch 31, CIFAR-10 Batch 3:  Loss: 1.0598855018615723, Validation Accuracy: 0.5941998958587646\n",
      "Epoch 31, CIFAR-10 Batch 4:  Loss: 1.0987344980239868, Validation Accuracy: 0.5855998992919922\n",
      "Epoch 31, CIFAR-10 Batch 5:  Loss: 0.9530524015426636, Validation Accuracy: 0.592799961566925\n",
      "Epoch 32, CIFAR-10 Batch 1:  Loss: 1.1609991788864136, Validation Accuracy: 0.5731999278068542\n",
      "Epoch 32, CIFAR-10 Batch 2:  Loss: 1.2005118131637573, Validation Accuracy: 0.5931999087333679\n",
      "Epoch 32, CIFAR-10 Batch 3:  Loss: 1.0439260005950928, Validation Accuracy: 0.5947999358177185\n",
      "Epoch 32, CIFAR-10 Batch 4:  Loss: 1.0875935554504395, Validation Accuracy: 0.5873998999595642\n",
      "Epoch 32, CIFAR-10 Batch 5:  Loss: 0.941252589225769, Validation Accuracy: 0.5933999419212341\n",
      "Epoch 33, CIFAR-10 Batch 1:  Loss: 1.1542561054229736, Validation Accuracy: 0.5743999481201172\n",
      "Epoch 33, CIFAR-10 Batch 2:  Loss: 1.188794732093811, Validation Accuracy: 0.5945999622344971\n",
      "Epoch 33, CIFAR-10 Batch 3:  Loss: 1.0336030721664429, Validation Accuracy: 0.5971998572349548\n",
      "Epoch 33, CIFAR-10 Batch 4:  Loss: 1.0764890909194946, Validation Accuracy: 0.5895999073982239\n",
      "Epoch 33, CIFAR-10 Batch 5:  Loss: 0.927264928817749, Validation Accuracy: 0.5957999229431152\n",
      "Epoch 34, CIFAR-10 Batch 1:  Loss: 1.1361987590789795, Validation Accuracy: 0.5811999440193176\n",
      "Epoch 34, CIFAR-10 Batch 2:  Loss: 1.172387719154358, Validation Accuracy: 0.5971999168395996\n",
      "Epoch 34, CIFAR-10 Batch 3:  Loss: 1.020616054534912, Validation Accuracy: 0.5983998775482178\n",
      "Epoch 34, CIFAR-10 Batch 4:  Loss: 1.0640499591827393, Validation Accuracy: 0.5895999073982239\n",
      "Epoch 34, CIFAR-10 Batch 5:  Loss: 0.9165408611297607, Validation Accuracy: 0.598599910736084\n",
      "Epoch 35, CIFAR-10 Batch 1:  Loss: 1.1293244361877441, Validation Accuracy: 0.5849999189376831\n",
      "Epoch 35, CIFAR-10 Batch 2:  Loss: 1.162814974784851, Validation Accuracy: 0.597399890422821\n",
      "Epoch 35, CIFAR-10 Batch 3:  Loss: 1.0102407932281494, Validation Accuracy: 0.598599910736084\n",
      "Epoch 35, CIFAR-10 Batch 4:  Loss: 1.0573821067810059, Validation Accuracy: 0.5915998816490173\n",
      "Epoch 35, CIFAR-10 Batch 5:  Loss: 0.9082649946212769, Validation Accuracy: 0.600399911403656\n",
      "Epoch 36, CIFAR-10 Batch 1:  Loss: 1.1228870153427124, Validation Accuracy: 0.5873998999595642\n",
      "Epoch 36, CIFAR-10 Batch 2:  Loss: 1.1561561822891235, Validation Accuracy: 0.5961999297142029\n",
      "Epoch 36, CIFAR-10 Batch 3:  Loss: 1.002540946006775, Validation Accuracy: 0.6009999513626099\n",
      "Epoch 36, CIFAR-10 Batch 4:  Loss: 1.0444080829620361, Validation Accuracy: 0.5925999879837036\n",
      "Epoch 36, CIFAR-10 Batch 5:  Loss: 0.9032812714576721, Validation Accuracy: 0.6023999452590942\n",
      "Epoch 37, CIFAR-10 Batch 1:  Loss: 1.1156039237976074, Validation Accuracy: 0.5867999196052551\n",
      "Epoch 37, CIFAR-10 Batch 2:  Loss: 1.1505951881408691, Validation Accuracy: 0.5977999567985535\n",
      "Epoch 37, CIFAR-10 Batch 3:  Loss: 0.994836688041687, Validation Accuracy: 0.6023998856544495\n",
      "Epoch 37, CIFAR-10 Batch 4:  Loss: 1.032073974609375, Validation Accuracy: 0.5945999622344971\n",
      "Epoch 37, CIFAR-10 Batch 5:  Loss: 0.885397732257843, Validation Accuracy: 0.6043999195098877\n",
      "Epoch 38, CIFAR-10 Batch 1:  Loss: 1.1088377237319946, Validation Accuracy: 0.5899998545646667\n",
      "Epoch 38, CIFAR-10 Batch 2:  Loss: 1.1426962614059448, Validation Accuracy: 0.5983999371528625\n",
      "Epoch 38, CIFAR-10 Batch 3:  Loss: 0.986148476600647, Validation Accuracy: 0.602199912071228\n",
      "Epoch 38, CIFAR-10 Batch 4:  Loss: 1.0224783420562744, Validation Accuracy: 0.596799910068512\n",
      "Epoch 38, CIFAR-10 Batch 5:  Loss: 0.8734860420227051, Validation Accuracy: 0.6045999526977539\n",
      "Epoch 39, CIFAR-10 Batch 1:  Loss: 1.0976433753967285, Validation Accuracy: 0.5911999344825745\n",
      "Epoch 39, CIFAR-10 Batch 2:  Loss: 1.1366868019104004, Validation Accuracy: 0.5987998843193054\n",
      "Epoch 39, CIFAR-10 Batch 3:  Loss: 0.9789363145828247, Validation Accuracy: 0.6039999127388\n",
      "Epoch 39, CIFAR-10 Batch 4:  Loss: 1.0127558708190918, Validation Accuracy: 0.5977998971939087\n",
      "Epoch 39, CIFAR-10 Batch 5:  Loss: 0.8627120852470398, Validation Accuracy: 0.6071999073028564\n",
      "Epoch 40, CIFAR-10 Batch 1:  Loss: 1.0942668914794922, Validation Accuracy: 0.5915999412536621\n",
      "Epoch 40, CIFAR-10 Batch 2:  Loss: 1.1302212476730347, Validation Accuracy: 0.6021998524665833\n",
      "Epoch 40, CIFAR-10 Batch 3:  Loss: 0.9746904373168945, Validation Accuracy: 0.6059999465942383\n",
      "Epoch 40, CIFAR-10 Batch 4:  Loss: 1.002101182937622, Validation Accuracy: 0.5995998978614807\n",
      "Epoch 40, CIFAR-10 Batch 5:  Loss: 0.8577970862388611, Validation Accuracy: 0.6071999669075012\n"
     ]
    }
   ],
   "source": [
    "\"\"\"\n",
    "DON'T MODIFY ANYTHING IN THIS CELL\n",
    "\"\"\"\n",
    "save_model_path = './image_classification'\n",
    "\n",
    "print('Training...')\n",
    "with tf.Session() as sess:\n",
    "    # Initializing the variables\n",
    "    sess.run(tf.global_variables_initializer())\n",
    "    \n",
    "    # Training cycle\n",
    "    for epoch in range(epochs):\n",
    "        # Loop over all batches\n",
    "        n_batches = 5\n",
    "        for batch_i in range(1, n_batches + 1):\n",
    "            for batch_features, batch_labels in helper.load_preprocess_training_batch(batch_i, batch_size):\n",
    "                train_neural_network(sess, optimizer, keep_probability, batch_features, batch_labels)\n",
    "            print('Epoch {:>2}, CIFAR-10 Batch {}:  '.format(epoch + 1, batch_i), end='')\n",
    "            print_stats(sess, batch_features, batch_labels, cost, accuracy)\n",
    "            \n",
    "    # Save Model\n",
    "    saver = tf.train.Saver()\n",
    "    save_path = saver.save(sess, save_model_path)"
   ]
  },
  {
   "cell_type": "markdown",
   "metadata": {
    "deletable": true,
    "editable": true
   },
   "source": [
    "# Checkpoint\n",
    "The model has been saved to disk.\n",
    "## Test Model\n",
    "Test your model against the test dataset.  This will be your final accuracy. You should have an accuracy greater than 50%. If you don't, keep tweaking the model architecture and parameters."
   ]
  },
  {
   "cell_type": "code",
   "execution_count": 31,
   "metadata": {
    "collapsed": false,
    "deletable": true,
    "editable": true
   },
   "outputs": [
    {
     "name": "stdout",
     "output_type": "stream",
     "text": [
      "Testing Accuracy: 0.590625\n",
      "\n"
     ]
    },
    {
     "data": {
      "image/png": "[encoded data removed]",
      "text/plain": [
       "<matplotlib.figure.Figure at 0x7f377eef5ef0>"
      ]
     },
     "metadata": {
      "image/png": {
       "height": 319,
       "width": 355
      }
     },
     "output_type": "display_data"
    }
   ],
   "source": [
    "\"\"\"\n",
    "DON'T MODIFY ANYTHING IN THIS CELL\n",
    "\"\"\"\n",
    "%matplotlib inline\n",
    "%config InlineBackend.figure_format = 'retina'\n",
    "\n",
    "import tensorflow as tf\n",
    "import pickle\n",
    "import helper\n",
    "import random\n",
    "\n",
    "# Set batch size if not already set\n",
    "try:\n",
    "    if batch_size:\n",
    "        pass\n",
    "except NameError:\n",
    "    batch_size = 64\n",
    "\n",
    "save_model_path = './image_classification'\n",
    "n_samples = 4\n",
    "top_n_predictions = 3\n",
    "\n",
    "def test_model():\n",
    "    \"\"\"\n",
    "    Test the saved model against the test dataset\n",
    "    \"\"\"\n",
    "\n",
    "    test_features, test_labels = pickle.load(open('preprocess_test.p', mode='rb'))\n",
    "    loaded_graph = tf.Graph()\n",
    "\n",
    "    with tf.Session(graph=loaded_graph) as sess:\n",
    "        # Load model\n",
    "        loader = tf.train.import_meta_graph(save_model_path + '.meta')\n",
    "        loader.restore(sess, save_model_path)\n",
    "\n",
    "        # Get Tensors from loaded model\n",
    "        loaded_x = loaded_graph.get_tensor_by_name('x:0')\n",
    "        loaded_y = loaded_graph.get_tensor_by_name('y:0')\n",
    "        loaded_keep_prob = loaded_graph.get_tensor_by_name('keep_prob:0')\n",
    "        loaded_logits = loaded_graph.get_tensor_by_name('logits:0')\n",
    "        loaded_acc = loaded_graph.get_tensor_by_name('accuracy:0')\n",
    "        \n",
    "        # Get accuracy in batches for memory limitations\n",
    "        test_batch_acc_total = 0\n",
    "        test_batch_count = 0\n",
    "        \n",
    "        for test_feature_batch, test_label_batch in helper.batch_features_labels(test_features, test_labels, batch_size):\n",
    "            test_batch_acc_total += sess.run(\n",
    "                loaded_acc,\n",
    "                feed_dict={loaded_x: test_feature_batch, loaded_y: test_label_batch, loaded_keep_prob: 1.0})\n",
    "            test_batch_count += 1\n",
    "\n",
    "        print('Testing Accuracy: {}\\n'.format(test_batch_acc_total/test_batch_count))\n",
    "\n",
    "        # Print Random Samples\n",
    "        random_test_features, random_test_labels = tuple(zip(*random.sample(list(zip(test_features, test_labels)), n_samples)))\n",
    "        random_test_predictions = sess.run(\n",
    "            tf.nn.top_k(tf.nn.softmax(loaded_logits), top_n_predictions),\n",
    "            feed_dict={loaded_x: random_test_features, loaded_y: random_test_labels, loaded_keep_prob: 1.0})\n",
    "        helper.display_image_predictions(random_test_features, random_test_labels, random_test_predictions)\n",
    "\n",
    "\n",
    "test_model()"
   ]
  },
  {
   "cell_type": "markdown",
   "metadata": {
    "deletable": true,
    "editable": true
   },
   "source": [
    "## Why 50-80% Accuracy?\n",
    "You might be wondering why you can't get an accuracy any higher. First things first, 50% isn't bad for a simple CNN.  Pure guessing would get you 10% accuracy. However, you might notice people are getting scores [well above 80%](http://rodrigob.github.io/are_we_there_yet/build/classification_datasets_results.html#43494641522d3130).  That's because we haven't taught you all there is to know about neural networks. We still need to cover a few more techniques.\n",
    "## Submitting This Project\n",
    "When submitting this project, make sure to run all the cells before saving the notebook.  Save the notebook file as \"dlnd_image_classification.ipynb\" and save it as a HTML file under \"File\" -> \"Download as\".  Include the \"helper.py\" and \"problem_unittests.py\" files in your submission."
   ]
  }
 ],
 "metadata": {
  "kernelspec": {
   "display_name": "Python 3",
   "language": "python",
   "name": "python3"
  },
  "language_info": {
   "codemirror_mode": {
    "name": "ipython",
    "version": 3
   },
   "file_extension": ".py",
   "mimetype": "text/x-python",
   "name": "python",
   "nbconvert_exporter": "python",
   "pygments_lexer": "ipython3",
   "version": "3.5.3"
  }
 },
 "nbformat": 4,
 "nbformat_minor": 0
}
